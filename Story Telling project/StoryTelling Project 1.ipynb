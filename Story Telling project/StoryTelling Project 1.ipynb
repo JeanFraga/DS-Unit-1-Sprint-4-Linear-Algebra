{
 "cells": [
  {
   "cell_type": "code",
   "execution_count": null,
   "metadata": {},
   "outputs": [],
   "source": [
    "user_profile_url = 'https://github.com/JeanFraga/DS-Unit-1-Sprint-4-Linear-Algebra/blob/master/Story%20Telling%20project/RCdata/userprofile.csv'\n",
    "user_payment_url = 'https://github.com/JeanFraga/DS-Unit-1-Sprint-4-Linear-Algebra/raw/master/Story%20Telling%20project/RCdata/userpayment.csv'\n",
    "user_cuisine_url = 'https://github.com/JeanFraga/DS-Unit-1-Sprint-4-Linear-Algebra/raw/master/Story%20Telling%20project/RCdata/usercuisine.csv'\n",
    "rating_final_url = 'https://github.com/JeanFraga/DS-Unit-1-Sprint-4-Linear-Algebra/raw/master/Story%20Telling%20project/RCdata/rating_final.csv'\n",
    "geo_places_url = 'https://github.com/JeanFraga/DS-Unit-1-Sprint-4-Linear-Algebra/raw/master/Story%20Telling%20project/RCdata/geoplaces2.csv'\n",
    "payment_methods_url = 'https://github.com/JeanFraga/DS-Unit-1-Sprint-4-Linear-Algebra/raw/master/Story%20Telling%20project/RCdata/chefmozaccepts.csv'\n",
    "cuisine_url = 'https://github.com/JeanFraga/DS-Unit-1-Sprint-4-Linear-Algebra/raw/master/Story%20Telling%20project/RCdata/chefmozcuisine.csv'\n",
    "hours_operating = 'https://github.com/JeanFraga/DS-Unit-1-Sprint-4-Linear-Algebra/raw/master/Story%20Telling%20project/RCdata/chefmozhours4.csv'\n",
    "\n",
    "def open_url_save_to_variable(url, dataframe_name, head_display=False, head_print=5):\n",
    "    import pandas as pd\n",
    "    dataframe_name = pd.read_csv(url)\n",
    "    if head_display == True:\n",
    "        \n",
    "        "
   ]
  }
 ],
 "metadata": {
  "kernelspec": {
   "display_name": "Python 3",
   "language": "python",
   "name": "python3"
  },
  "language_info": {
   "codemirror_mode": {
    "name": "ipython",
    "version": 3
   },
   "file_extension": ".py",
   "mimetype": "text/x-python",
   "name": "python",
   "nbconvert_exporter": "python",
   "pygments_lexer": "ipython3",
   "version": "3.7.3"
  }
 },
 "nbformat": 4,
 "nbformat_minor": 2
}
